{
 "cells": [
  {
   "cell_type": "markdown",
   "id": "0ac9a8f4-157f-42a1-b482-215d4cca7e46",
   "metadata": {},
   "source": [
    "## PyRamen Challenge\n",
    "\n",
    "#### 1. Import Libraries and Files"
   ]
  },
  {
   "cell_type": "code",
   "execution_count": 1,
   "id": "a7edc2d0-388d-43b9-b6f3-c4e111920ccb",
   "metadata": {},
   "outputs": [],
   "source": [
    "# Import libraries\n",
    "import csv\n",
    "from pathlib import Path\n",
    "\n",
    "#Set file paths for menu_data.csv and sales_data.csv\n",
    "menu_filepath = Path('./Resources/menu_data.csv')\n",
    "sales_filepath = Path('./Resources/sales_data.csv')"
   ]
  },
  {
   "cell_type": "markdown",
   "id": "f5218849-a8d5-433e-9bc5-65725e3ae8da",
   "metadata": {},
   "source": [
    "#### 2. Turn menu_data into a dictionary"
   ]
  },
  {
   "cell_type": "code",
   "execution_count": 2,
   "id": "429b4f8e-1328-484b-ac6c-611cf55e9f2e",
   "metadata": {},
   "outputs": [],
   "source": [
    "#Initialize dict objects to hold our menu and sales data\n",
    "menu = {}\n",
    "sales = {}\n",
    "report = {}\n",
    "\n",
    "#Read in the menu data into the menu list\n",
    "with open(menu_filepath ,'r') as menu_file:\n",
    "    menu_reader = csv.reader(menu_file, delimiter = \",\")\n",
    "    \n",
    "    #skip the header\n",
    "    header = next(menu_reader)\n",
    "    \n",
    "    #Iterate over menu_data to form menu dict\n",
    "    for row in menu_reader:\n",
    "        \n",
    "        #Gather relevant information and thin out the unnecessary data before appending to menu\n",
    "        menu_item = str(row[0])\n",
    "        menu_price = float(row[3])\n",
    "        menu_cost = float(row[4])\n",
    "        \n",
    "        #Add profit as list item\n",
    "        menu_profit = menu_price - menu_cost\n",
    "        \n",
    "        # Create menu dict\n",
    "        menu[menu_item] = [menu_price, menu_cost,menu_profit]"
   ]
  },
  {
   "cell_type": "markdown",
   "id": "0738fc80-d385-406f-9b20-35b736149935",
   "metadata": {},
   "source": [
    "#### 3. Turn sales_data into dictionary and concatenate with menu_data to perfomr calculations"
   ]
  },
  {
   "cell_type": "code",
   "execution_count": 3,
   "id": "a59cd326-3afa-471e-b0f7-4aaad249cccf",
   "metadata": {},
   "outputs": [],
   "source": [
    "#Initialise Sales Values\n",
    "sales_quantity = 0\n",
    "sales_menu_item = \"\"\n",
    "\n",
    "#Read in the sales data into the sales list\n",
    "with open(sales_filepath ,'r') as sales_file:\n",
    "    sales_reader = csv.reader(sales_file, delimiter=',')\n",
    "    \n",
    "    #skip the header\n",
    "    sales_header = next(sales_reader)\n",
    "\n",
    "    #Reading the sales data \n",
    "    for row in sales_reader:\n",
    "        \n",
    "        #Gather relevant information from rows\n",
    "        sales_quantity = int(row[3])\n",
    "        sales_menu_item = row[4]\n",
    "        \n",
    "        #If Menu Item is not in report dict, initialise dict key and values\n",
    "        if sales_menu_item not in report.keys():\n",
    "            report[sales_menu_item]= {\"01-count\": sales_quantity, \"02-revenue\": menu[sales_menu_item][0], \"03-cogs\": menu[sales_menu_item][1], \"04-profit\": menu[sales_menu_item][2]}\n",
    "        \n",
    "        #Else add values for relevant key in Menu Item\n",
    "        else:\n",
    "            report[sales_menu_item][\"01-count\"] += sales_quantity            \n",
    "            report[sales_menu_item][\"02-revenue\"] += menu[sales_menu_item][0] * sales_quantity\n",
    "            report[sales_menu_item][\"03-cogs\"] += menu[sales_menu_item][1] * sales_quantity\n",
    "            report[sales_menu_item][\"04-profit\"] += menu[sales_menu_item][2] * sales_quantity     "
   ]
  },
  {
   "cell_type": "markdown",
   "id": "fcf2833d-f8b5-4a25-9dc4-de09730f0360",
   "metadata": {},
   "source": [
    "#### 4. Print to .txt"
   ]
  },
  {
   "cell_type": "code",
   "execution_count": 4,
   "id": "7986fc9b-f17b-4984-a16b-16a693f52597",
   "metadata": {},
   "outputs": [],
   "source": [
    "#Set output path\n",
    "result_path = Path(\"pyRamen_output.txt\")\n",
    "\n",
    "#Create file\n",
    "with open(result_path, \"w\") as txtfile:\n",
    "    \n",
    "    #Loop through report items and print keys and values followed by blank line\n",
    "    for key,value in report.items():\n",
    "        txtfile.write(f\"{key},{value}\\n\")"
   ]
  }
 ],
 "metadata": {
  "kernelspec": {
   "display_name": "dev",
   "language": "python",
   "name": "dev"
  },
  "language_info": {
   "codemirror_mode": {
    "name": "ipython",
    "version": 3
   },
   "file_extension": ".py",
   "mimetype": "text/x-python",
   "name": "python",
   "nbconvert_exporter": "python",
   "pygments_lexer": "ipython3",
   "version": "3.7.13"
  }
 },
 "nbformat": 4,
 "nbformat_minor": 5
}
