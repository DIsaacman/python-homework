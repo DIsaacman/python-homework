{
 "cells": [
  {
   "cell_type": "markdown",
   "id": "4e25c745-71d8-4325-9f15-cfe0e8541c59",
   "metadata": {},
   "source": [
    "## PyBank Financial Report"
   ]
  },
  {
   "cell_type": "markdown",
   "id": "04e60b9e-33b6-4df0-bc4a-7a18b16504c5",
   "metadata": {},
   "source": [
    "#### Import CSV"
   ]
  },
  {
   "cell_type": "code",
   "execution_count": 1,
   "id": "9cdd768c-ae24-4560-9232-59dec6c9eb52",
   "metadata": {
    "tags": []
   },
   "outputs": [],
   "source": [
    "# Import the pathlib and csv library\n",
    "from pathlib import Path\n",
    "import csv\n",
    "import numpy\n",
    "\n",
    "# Set the file path\n",
    "csvpath = Path(\"./Resources/budget_data.csv\")"
   ]
  },
  {
   "cell_type": "markdown",
   "id": "1d2dca58-c984-478c-85cd-c85248b3e590",
   "metadata": {},
   "source": [
    "#### Initialise Variables"
   ]
  },
  {
   "cell_type": "code",
   "execution_count": 2,
   "id": "3402ac61-ed40-4f3f-884d-56700b97bce1",
   "metadata": {},
   "outputs": [],
   "source": [
    "# Initialise variable to hold pnl lists\n",
    "pnl_list =[]\n",
    "date_list = []\n",
    "\n",
    "# Initialize variables\n",
    "month_num = 0\n",
    "total_pnl = 0\n",
    "\n",
    "#General Metrics\n",
    "greatest_profit = 0\n",
    "greatest_loss = 0\n",
    "\n",
    "#Specific Metrics (Change)\n",
    "greatest_increase = 0\n",
    "greatest_decrease = 0"
   ]
  },
  {
   "cell_type": "markdown",
   "id": "e549cfa5-f170-4e13-ac7d-28859e5b9e92",
   "metadata": {},
   "source": [
    "#### Read Through CSV for Month Count, Total Pnl and Populate lists"
   ]
  },
  {
   "cell_type": "code",
   "execution_count": 3,
   "id": "fd8cc622-b22b-4145-aa7b-ff9a34172dfa",
   "metadata": {},
   "outputs": [],
   "source": [
    "# Open the input path as a file object\n",
    "with open(csvpath, 'r') as csvfile:\n",
    "\n",
    "    # Pass in the csv file to the csv.reader() function\n",
    "    csvreader = csv.reader(csvfile, delimiter=',')\n",
    "\n",
    "    # Go to the next row from the start of the file and iterate line_num by 1\n",
    "    header = next(csvreader)\n",
    "    \n",
    "\n",
    "    # Read each row of data after the header\n",
    "    for row in csvreader:\n",
    "\n",
    "        # Count months\n",
    "        month_num += 1\n",
    "        \n",
    "        # Set salary variable equal to the value in the 4th column of each row\n",
    "        pnl_ = int(row[1])\n",
    "        date_ = row[0]\n",
    "        \n",
    "        #Net Total\n",
    "        total_pnl += pnl_\n",
    "        \n",
    "        #Find best and worst day(General)\n",
    "        if greatest_profit == 0:\n",
    "            greatest_profit = pnl_\n",
    "        elif pnl_ < greatest_loss:\n",
    "            greatest_loss = pnl_\n",
    "        if pnl_> greatest_profit:\n",
    "            greatest_profit = pnl_\n",
    "        \n",
    "        # Append the row pnl_ value to the list of pnl_list\n",
    "        combined = pnl_list.append(pnl_)\n",
    "        date_list.append(date_)\n",
    "        combined = [pnl_, date_]\n",
    "        "
   ]
  },
  {
   "cell_type": "markdown",
   "id": "c21ac50c-6043-4889-b6c3-9eb4dabd758d",
   "metadata": {},
   "source": [
    "#### Find The Average and Greatest Changes"
   ]
  },
  {
   "cell_type": "code",
   "execution_count": 4,
   "id": "ace27fe7-cd3d-4e29-986f-7cd35cf78ace",
   "metadata": {
    "tags": []
   },
   "outputs": [],
   "source": [
    "#Calculate the average in changes. The monthly differences use numpy.diff to create list/array called change_\n",
    "change_ = numpy.diff(pnl_list)\n",
    "\n",
    "#Find greatest increase/decrease over the period\n",
    "for greatest in change_:\n",
    "    if greatest_increase == 0:\n",
    "        greatest_increase = greatest\n",
    "    elif greatest < greatest_decrease:\n",
    "        greatest_decrease = greatest  \n",
    "    if greatest> greatest_increase:\n",
    "        greatest_increase = greatest\n",
    "    \n",
    "    #Create reference for later indexing\n",
    "    combined.append(greatest)\n",
    "\n",
    "#Index the greatest months\n",
    "date_x = combined.index(greatest_increase)\n",
    "date_y = combined.index(greatest_decrease)\n",
    "\n",
    "# Set variables (-1 because there is no change in month 1)\n",
    "best_month = date_list[date_x -1]\n",
    "worst_month = date_list[date_y-1]\n",
    "\n",
    "#Calculate Average Change\n",
    "monthly_changes = sum(change_)/len(change_)  "
   ]
  },
  {
   "cell_type": "markdown",
   "id": "19d2db12-b3a2-4bdc-bc0e-5b98a3c23538",
   "metadata": {},
   "source": [
    "#### Convert Months to years and Calculate Average PnL"
   ]
  },
  {
   "cell_type": "code",
   "execution_count": 5,
   "id": "a8ffce72-9bd1-49ae-83db-4b07d3b2c82e",
   "metadata": {},
   "outputs": [],
   "source": [
    "#Calculate Years/Months        \n",
    "years,months = divmod(month_num, 12)\n",
    "\n",
    "#Calculate Averager PnL\n",
    "average_ = total_pnl / month_num"
   ]
  },
  {
   "cell_type": "markdown",
   "id": "c5d53a24-337b-4a99-85f0-f040ea1ca650",
   "metadata": {},
   "source": [
    "## Print Results to .txt"
   ]
  },
  {
   "cell_type": "code",
   "execution_count": 6,
   "id": "27abf0d6-4496-4661-b2d7-a3be52c0488a",
   "metadata": {},
   "outputs": [],
   "source": [
    "# Set output file name\n",
    "output_path = 'results.txt'\n",
    "\n",
    "with open(output_path, 'w') as file:\n",
    "    # Write results to a .txt\n",
    "   \n",
    "    file.write(\"---------Financial Analysis----------\\n\\n\")\n",
    "    file.write(f\"The Number of Periods is {month_num} months\\n\")\n",
    "    file.write(f\"This equates to {years} years, and {months} months\\n\\n\")\n",
    "    file.write(f\"Total Profit is ${total_pnl:,.2f}\\n\\n\")\n",
    "    file.write(f\"Average Change from Month-to-Month is ${monthly_changes:,.2f}\\n\\n\" )\n",
    "    file.write(f\"Greatest increase is ${greatest_increase:,.2f} in {best_month}\\n\" )\n",
    "    file.write(f\"Greatest decrease is ${greatest_decrease:,.2f} in {worst_month}\\n\\n\" )\n",
    "    file.write(\"---------Summary Statistics----------\\n\\n\")\n",
    "    file.write(f\"Greatest profit is ${greatest_profit:,.2f}\\n\" )\n",
    "    file.write(f\"Greatest loss is ${greatest_loss:,.2f}\\n\" )\n",
    "    file.write(f\"Average Profit/Loss is ${average_:,.2f}\\n\" )"
   ]
  },
  {
   "cell_type": "code",
   "execution_count": null,
   "id": "8b4904aa-6732-4b5f-9204-13942ae3c9a5",
   "metadata": {},
   "outputs": [],
   "source": []
  },
  {
   "cell_type": "code",
   "execution_count": null,
   "id": "31aee93c-2b3a-40fa-8277-706b84927bdc",
   "metadata": {},
   "outputs": [],
   "source": []
  }
 ],
 "metadata": {
  "kernelspec": {
   "display_name": "dev",
   "language": "python",
   "name": "dev"
  },
  "language_info": {
   "codemirror_mode": {
    "name": "ipython",
    "version": 3
   },
   "file_extension": ".py",
   "mimetype": "text/x-python",
   "name": "python",
   "nbconvert_exporter": "python",
   "pygments_lexer": "ipython3",
   "version": "3.7.13"
  }
 },
 "nbformat": 4,
 "nbformat_minor": 5
}
