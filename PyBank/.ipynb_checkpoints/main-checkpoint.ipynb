{
 "cells": [
  {
   "cell_type": "code",
   "execution_count": 1,
   "id": "9cdd768c-ae24-4560-9232-59dec6c9eb52",
   "metadata": {},
   "outputs": [],
   "source": [
    "# Import the pathlib and csv library\n",
    "from pathlib import Path\n",
    "import csv\n",
    "import numpy\n",
    "\n",
    "# Set the file path\n",
    "csvpath = Path(\"./Resources/budget_data.csv\")"
   ]
  },
  {
   "cell_type": "code",
   "execution_count": 2,
   "id": "3402ac61-ed40-4f3f-884d-56700b97bce1",
   "metadata": {},
   "outputs": [],
   "source": [
    "# Initialize variable to hold pnl lists\n",
    "pnl_list =[]\n",
    "date_list = []\n",
    "\n",
    "# Initialize variables\n",
    "month_num = 0\n",
    "total_pnl = 0\n",
    "\n",
    "#General Metrics\n",
    "greatest_profit = 0\n",
    "greatest_loss = 0\n",
    "\n",
    "#Specific Metrics (Change)\n",
    "greatest_increase = 0\n",
    "greatest_decrease = 0"
   ]
  },
  {
   "cell_type": "code",
   "execution_count": 3,
   "id": "724422b7-d366-420a-bfb6-7b18c7d91d8a",
   "metadata": {},
   "outputs": [],
   "source": [
    "# Open the input path as a file object\n",
    "with open(csvpath, 'r') as csvfile:\n",
    "\n",
    "    # Pass in the csv file to the csv.reader() function\n",
    "    csvreader = csv.reader(csvfile, delimiter=',')\n",
    "\n",
    "    # Go to the next row from the start of the file and iterate line_num by 1\n",
    "    header = next(csvreader)\n",
    "\n",
    "    # Read each row of data after the header\n",
    "    for row in csvreader:\n",
    "\n",
    "        # Count months\n",
    "        month_num += 1\n",
    "        \n",
    "        # Set salary variable equal to the value in the 4th column of each row\n",
    "        pnl_ = int(row[1])\n",
    "        date_ = row[0]\n",
    "        \n",
    "        #Sum budget\n",
    "        total_pnl += pnl_\n",
    "        \n",
    "        #Find best and worst day(General)\n",
    "        if greatest_profit == 0:\n",
    "            greatest_profit = pnl_\n",
    "        elif pnl_ < greatest_loss:\n",
    "            greatest_loss = pnl_\n",
    "        if pnl_> greatest_profit:\n",
    "            greatest_profit = pnl_\n",
    "        \n",
    "        # Append the row pnl_ value to the list of pnl_list\n",
    "        pnl_list.append(pnl_)\n",
    "        date_list.append(date_)\n",
    "        combined = [pnl_, date_]\n",
    "        "
   ]
  },
  {
   "cell_type": "code",
   "execution_count": null,
   "id": "ec676907-6ac6-44b9-8de7-beef5c947535",
   "metadata": {},
   "outputs": [],
   "source": []
  },
  {
   "cell_type": "code",
   "execution_count": 4,
   "id": "ace27fe7-cd3d-4e29-986f-7cd35cf78ace",
   "metadata": {
    "tags": []
   },
   "outputs": [],
   "source": [
    "#Calculate the monthly differences using numpy and create list called change_\n",
    "change_ = numpy.diff(pnl_list)\n",
    "\n",
    "#Find greatest increase/decrease\n",
    "for greatest in change_:\n",
    "    if greatest_increase == 0:\n",
    "        greatest_increase = greatest\n",
    "    elif greatest < greatest_decrease:\n",
    "        greatest_decrease = greatest  \n",
    "    if greatest> greatest_increase:\n",
    "        greatest_increase = greatest\n",
    "    \n",
    "    combined.append(greatest)\n",
    "    \n",
    "date_x = combined.index(greatest_increase)\n",
    "date_y = combined.index(greatest_decrease)\n",
    "\n",
    "best_month = date_list[date_x -1]\n",
    "worst_month = date_list[date_y-1]"
   ]
  },
  {
   "cell_type": "code",
   "execution_count": 5,
   "id": "a8ffce72-9bd1-49ae-83db-4b07d3b2c82e",
   "metadata": {},
   "outputs": [],
   "source": [
    "#Calculate Years/Months        \n",
    "years,months = divmod(month_num, 12)\n",
    "\n",
    "#Calculate Averager PnL\n",
    "average_ = total_pnl / month_num\n",
    "\n",
    "#Calculate Average Change\n",
    "monthly_changes = sum(change_)/len(change_)  "
   ]
  },
  {
   "cell_type": "markdown",
   "id": "c5d53a24-337b-4a99-85f0-f040ea1ca650",
   "metadata": {},
   "source": [
    "## Print Results"
   ]
  },
  {
   "cell_type": "code",
   "execution_count": 6,
   "id": "27abf0d6-4496-4661-b2d7-a3be52c0488a",
   "metadata": {},
   "outputs": [
    {
     "name": "stdout",
     "output_type": "stream",
     "text": [
      "---------Financial Analysis----------\n",
      "\n",
      "The Number of Periods is 86 months\n",
      "This equates to 7 years, and 2 months\n",
      "\n",
      "Total Profit is $38,382,578.00\n",
      "\n",
      "Average Change from Month-to-Month is $-2,315.12\n",
      "\n",
      "Greatest increase is $1,926,159.00 in Feb-2012\n",
      "Greatest decrease is $-2,196,167.00 in Sep-2013\n",
      "\n",
      "---------Summary Statistics----------\n",
      "\n",
      "Greatest profit is $1,170,593.00\n",
      "Greatest loss is $-1,196,225.00\n",
      "Average Profit/Loss is $446,309.05\n"
     ]
    }
   ],
   "source": [
    "print(\"---------Financial Analysis----------\\n\")\n",
    "print(f\"The Number of Periods is {month_num} months\")\n",
    "print(f\"This equates to {years} years, and {months} months\\n\")\n",
    "print(f\"Total Profit is ${total_pnl:,.2f}\\n\")\n",
    "print(f\"Average Change from Month-to-Month is ${monthly_changes:,.2f}\\n\" )\n",
    "print(f\"Greatest increase is ${greatest_increase:,.2f} in {best_month}\" )\n",
    "print(f\"Greatest decrease is ${greatest_decrease:,.2f} in {worst_month}\\n\" )\n",
    "print(\"---------Summary Statistics----------\\n\")\n",
    "print(f\"Greatest profit is ${greatest_profit:,.2f}\" )\n",
    "print(f\"Greatest loss is ${greatest_loss:,.2f}\" )\n",
    "print(f\"Average Profit/Loss is ${average_:,.2f}\" )"
   ]
  },
  {
   "cell_type": "markdown",
   "id": "0bb560d3-37cb-43e3-8258-5d12c510469f",
   "metadata": {},
   "source": [
    "Your final script should print the analysis to the terminal and export a text file with the results."
   ]
  },
  {
   "cell_type": "code",
   "execution_count": null,
   "id": "40827626-bd72-4444-a402-caa36e8da9b0",
   "metadata": {},
   "outputs": [],
   "source": []
  }
 ],
 "metadata": {
  "kernelspec": {
   "display_name": "dev",
   "language": "python",
   "name": "dev"
  },
  "language_info": {
   "codemirror_mode": {
    "name": "ipython",
    "version": 3
   },
   "file_extension": ".py",
   "mimetype": "text/x-python",
   "name": "python",
   "nbconvert_exporter": "python",
   "pygments_lexer": "ipython3",
   "version": "3.7.13"
  }
 },
 "nbformat": 4,
 "nbformat_minor": 5
}
