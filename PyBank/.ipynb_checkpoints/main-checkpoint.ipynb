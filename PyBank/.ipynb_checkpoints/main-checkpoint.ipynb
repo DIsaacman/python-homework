{
 "cells": [
  {
   "cell_type": "code",
   "execution_count": 27,
   "id": "9cdd768c-ae24-4560-9232-59dec6c9eb52",
   "metadata": {},
   "outputs": [
    {
     "name": "stdout",
     "output_type": "stream",
     "text": [
      "---------Summary Statistics----------\n",
      "Total Profit is $38,382,578.00\n",
      "\n",
      "Greatest increase is $1,170,593.00\n",
      "Greatest decrease is $-1,196,225.00\n",
      "\n",
      "Average Profit/Loss is $446,309.05\n",
      "Average Change from Month-to-Month is $-2,315.12\n",
      "\n",
      "The Number of Periods is 86 months\n",
      "This equates to 7 years, and 2 months\n"
     ]
    }
   ],
   "source": [
    "# Import the pathlib and csv library\n",
    "from pathlib import Path\n",
    "from datetime import datetime\n",
    "import csv\n",
    "import numpy\n",
    "\n",
    "# Set the file path\n",
    "csvpath = Path(\"./Resources/budget_data.csv\")\n",
    "               \n",
    "# Initialize variable to hold salaries\n",
    "pnl_list =[]\n",
    "monthly_change = []\n",
    "date_= \"\"\n",
    "\n",
    "\n",
    "# Initialize line_num variable\n",
    "month_num = 0\n",
    "total_pnl = 0\n",
    "greatest_increase = 0\n",
    "greatest_decrease = 0\n",
    "\n",
    "# Open the input path as a file object\n",
    "with open(csvpath, 'r') as csvfile:\n",
    "\n",
    "    # Pass in the csv file to the csv.reader() function\n",
    "    # (with ',' as the delmiter/separator) and return the csvreader object\n",
    "    csvreader = csv.reader(csvfile, delimiter=',')\n",
    "    # Print the datatype of the csvreader\n",
    "    \n",
    "    # Go to the next row from the start of the file\n",
    "    # (which is often the first row/header) and iterate line_num by 1\n",
    "    header = next(csvreader)\n",
    "\n",
    "    # Print the header\n",
    "    # print(f\"{header} <---- HEADER\")\n",
    "\n",
    "    # Read each row of data after the header\n",
    "    for row in csvreader:\n",
    "        # # Print the row\n",
    "        # print(row)\n",
    "        # Count months\n",
    "        month_num += 1\n",
    "        \n",
    "        # Set salary variable equal to the value in the 4th column of each row\n",
    "        pnl_ = int(row[1])\n",
    "        date_ = row[0]\n",
    "        \n",
    "        #Sum budget\n",
    "        total_pnl += pnl_\n",
    "        \n",
    "        if greatest_decrease == 0:\n",
    "            greatest_decrease = pnl_\n",
    "        if pnl_ < greatest_decrease:\n",
    "            greatest_decrease = pnl_\n",
    "        \n",
    "        if pnl_> greatest_increase:\n",
    "            greatest_increase = pnl_\n",
    "        \n",
    "        # Append the row pnl_ value to the list of pnl_list\n",
    "        pnl_list.append(pnl_)\n",
    "        \n",
    "years,months = divmod(month_num, 12)\n",
    "        \n",
    "v = numpy.diff(pnl_list)\n",
    "\n",
    "monthly_changes = sum(v)/len(v)     \n",
    "        \n",
    "average_ = total_pnl / month_num\n",
    "\n",
    "#best_month = row.index(\"greatest_decrease\")\n",
    "\n",
    "#(pokemon.index(\"Gyarados\"))\n",
    "\n",
    "print(\"---------Summary Statistics----------\")\n",
    "print(f\"Total Profit is ${total_pnl:,.2f}\\n\")\n",
    "print(f\"Greatest increase is ${greatest_increase:,.2f}\" )\n",
    "print(f\"Greatest decrease is ${greatest_decrease:,.2f}\\n\" )\n",
    "print(f\"Average Profit/Loss is ${average_:,.2f}\" )\n",
    "print(f\"Average Change from Month-to-Month is ${monthly_changes:,.2f}\\n\" )\n",
    "print(f\"The Number of Periods is {month_num} months\")\n",
    "print(f\"This equates to {years} years, and {months} months\")"
   ]
  },
  {
   "cell_type": "markdown",
   "id": "0bb560d3-37cb-43e3-8258-5d12c510469f",
   "metadata": {},
   "source": [
    "  ```text\n",
    "  Financial Analysis\n",
    "  ----------------------------\n",
    "  Total Months: 86\n",
    "  Total: $38382578\n",
    "  Average  Change: $-2315.12\n",
    "  Greatest Increase in Profits: Feb-2012 ($1926159)\n",
    "  Greatest Decrease in Profits: Sep-2013 ($-2196167)\n",
    "  ```\n",
    "\n",
    "Your final script should print the analysis to the terminal and export a text file with the results.\n"
   ]
  },
  {
   "cell_type": "code",
   "execution_count": 25,
   "id": "195ba71a-31d1-4a2a-8502-a88529287ff5",
   "metadata": {},
   "outputs": [
    {
     "data": {
      "text/plain": [
       "['Feb-2017', '671099']"
      ]
     },
     "execution_count": 25,
     "metadata": {},
     "output_type": "execute_result"
    }
   ],
   "source": [
    "row"
   ]
  },
  {
   "cell_type": "code",
   "execution_count": null,
   "id": "5c55f15f-65df-4654-a352-2d840848a0a6",
   "metadata": {},
   "outputs": [],
   "source": []
  }
 ],
 "metadata": {
  "kernelspec": {
   "display_name": "dev",
   "language": "python",
   "name": "dev"
  },
  "language_info": {
   "codemirror_mode": {
    "name": "ipython",
    "version": 3
   },
   "file_extension": ".py",
   "mimetype": "text/x-python",
   "name": "python",
   "nbconvert_exporter": "python",
   "pygments_lexer": "ipython3",
   "version": "3.9.12"
  }
 },
 "nbformat": 4,
 "nbformat_minor": 5
}
